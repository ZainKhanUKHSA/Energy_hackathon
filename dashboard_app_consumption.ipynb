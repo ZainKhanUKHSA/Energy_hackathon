{
 "cells": [
  {
   "cell_type": "code",
   "execution_count": null,
   "metadata": {},
   "outputs": [],
   "source": [
    "import pandas as pd\n",
    "import plotly.express as px\n",
    "import geopandas as gpd"
   ]
  },
  {
   "cell_type": "code",
   "execution_count": null,
   "metadata": {},
   "outputs": [],
   "source": [
    "lsoas = gpd.read_file(\"Lower_layer_Super_Output_Areas_December_2021_Boundaries_EW_BSC_V4_-4299016806856585929.geojson\")\n"
   ]
  },
  {
   "cell_type": "code",
   "execution_count": null,
   "metadata": {},
   "outputs": [],
   "source": [
    "lsoas.boundary.plot(color = 'k', linewidth = 0.1)"
   ]
  },
  {
   "cell_type": "code",
   "execution_count": null,
   "metadata": {},
   "outputs": [],
   "source": [
    "print(lsoas.head())"
   ]
  },
  {
   "cell_type": "code",
   "execution_count": null,
   "metadata": {},
   "outputs": [],
   "source": [
    "lsoas.geometry.iloc[1]"
   ]
  },
  {
   "cell_type": "code",
   "execution_count": null,
   "metadata": {},
   "outputs": [],
   "source": [
    "consumption_by_lsoa = pd.read_excel(\"final_data.xlsx\")\n",
    "consumption_by_lsoa.head(3)\n"
   ]
  },
  {
   "cell_type": "code",
   "execution_count": null,
   "metadata": {},
   "outputs": [],
   "source": [
    "filtered_data = consumption_by_lsoa[['LSOA code','Electricity Total Consumption (kWh)','geometry','longitude','latitude']]\n",
    "data_to_plot = filtered_data.rename(columns={\"Electricity Total Consumption (kWh)\": \"consumption\"})\n",
    "data_to_plot.head(3)"
   ]
  },
  {
   "cell_type": "code",
   "execution_count": null,
   "metadata": {},
   "outputs": [],
   "source": [
    "from sklearn.preprocessing import MinMaxScaler\n",
    "scaler = MinMaxScaler() \n",
    "scaled_consumption = scaler.fit_transform(data_to_plot[['consumption']]) \n",
    "scaled_consumption_df = pd.DataFrame(scaled_consumption[:, 0])\n",
    "scaled_consumption_df.rename(columns={0: \"scaled_consumption\"}, inplace=True)\n",
    "scaled_consumption_df.head(3)"
   ]
  },
  {
   "cell_type": "code",
   "execution_count": null,
   "metadata": {},
   "outputs": [],
   "source": [
    "# Add scaled consumption to dataframe\n",
    "\n",
    "data_to_plot['scaled_consumption'] = scaled_consumption_df\n",
    "plot_data = data_to_plot[['LSOA code','scaled_consumption']]\n",
    "plot_data.head(3)"
   ]
  },
  {
   "cell_type": "code",
   "execution_count": null,
   "metadata": {},
   "outputs": [],
   "source": [
    "lsoas.sort_values('LSOA21CD')\n"
   ]
  },
  {
   "cell_type": "code",
   "execution_count": null,
   "metadata": {},
   "outputs": [],
   "source": [
    "data = lsoas.merge(plot_data, left_on='LSOA21CD',right_on='LSOA code')\n",
    "data.head(3)"
   ]
  },
  {
   "cell_type": "code",
   "execution_count": null,
   "metadata": {},
   "outputs": [],
   "source": [
    "fig = px.choropleth_map(data, \n",
    "                         geojson = data.geometry, \n",
    "                         locations=data.index,\n",
    "                         color=data.scaled_consumption,\n",
    "                         color_continuous_scale=\"twilight\",\n",
    "                         map_style=\"carto-positron\",\n",
    "                         zoom = 4.5, center = {\"lat\":51.5072,\"lon\":0.1276})\n",
    "fig.update_layout(margin={\"r\":0,\"t\":0,\"l\":0,\"b\":0})\n",
    "fig.show()\n"
   ]
  }
 ],
 "metadata": {
  "kernelspec": {
   "display_name": ".venv",
   "language": "python",
   "name": "python3"
  },
  "language_info": {
   "codemirror_mode": {
    "name": "ipython",
    "version": 3
   },
   "file_extension": ".py",
   "mimetype": "text/x-python",
   "name": "python",
   "nbconvert_exporter": "python",
   "pygments_lexer": "ipython3",
   "version": "3.13.1"
  }
 },
 "nbformat": 4,
 "nbformat_minor": 2
}
