{
 "cells": [
  {
   "cell_type": "markdown",
   "metadata": {},
   "source": [
    "###SC api key for mapbox\n",
    "###paste the bottom at the end of your figure if you want to publish a mapbox map\n",
    "#fig.update_layout(mapbox = {\"accesstoken\": \"pk.eyJ1IjoiY2xpZmZjb2RlczExMSIsImEiOiJjbTRrYXl5aWwwMm13MmxzNDVnM2IyYmVzIn0.fH-EIruCR_lBINbVr5trnw\"})"
   ]
  }
 ],
 "metadata": {
  "language_info": {
   "name": "python"
  }
 },
 "nbformat": 4,
 "nbformat_minor": 2
}
